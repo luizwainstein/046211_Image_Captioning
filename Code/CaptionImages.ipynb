{
  "nbformat": 4,
  "nbformat_minor": 0,
  "metadata": {
    "colab": {
      "name": "CaptionImages.ipynb",
      "provenance": [],
      "collapsed_sections": []
    },
    "kernelspec": {
      "name": "python3",
      "display_name": "Python 3"
    },
    "language_info": {
      "name": "python"
    },
    "accelerator": "GPU"
  },
  "cells": [
    {
      "cell_type": "markdown",
      "metadata": {
        "id": "OYGSWjTWxEkA"
      },
      "source": [
        "# **Imports and Utils**"
      ]
    },
    {
      "cell_type": "markdown",
      "metadata": {
        "id": "bPzSpDBtGDDG"
      },
      "source": [
        "## Imports"
      ]
    },
    {
      "cell_type": "code",
      "metadata": {
        "id": "YMSp7AmaQmUN"
      },
      "source": [
        "# imports for the practice (you can add more if you need)\n",
        "import numpy as np\n",
        "import matplotlib.pyplot as plt\n",
        "import time\n",
        "import os\n",
        "import math\n",
        "from PIL import Image\n",
        "from google.colab import files\n",
        "from tqdm import tqdm\n",
        "import statistics\n",
        "from nltk.translate.bleu_score import corpus_bleu\n",
        "\n",
        "# libraries for dataset processing\n",
        "import pandas as pd \n",
        "import spacy\n",
        "import json\n",
        "\n",
        "# pytorch\n",
        "import torch\n",
        "import torch.nn as nn\n",
        "import torchvision.transforms as transforms\n",
        "import torchtext.legacy.data as data\n",
        "from torch.nn.utils.rnn import pad_sequence\n",
        "import torch.optim as optim\n",
        "import torchvision.models as models\n",
        "import torchtext\n",
        "import torchvision\n",
        "import torch.nn.functional as f\n",
        "from torch.nn import TransformerEncoder, TransformerEncoderLayer\n",
        "from torch.utils.data import DataLoader, Dataset\n",
        "\n",
        "# seed for results replication\n",
        "seed = 211\n",
        "np.random.seed(seed)\n",
        "torch.manual_seed(seed)\n",
        "device = torch.device(\"cuda:0\" if torch.cuda.is_available() else \"cpu\")"
      ],
      "execution_count": 2,
      "outputs": []
    },
    {
      "cell_type": "markdown",
      "metadata": {
        "id": "4SerOZ12FoPk"
      },
      "source": [
        "## Utils"
      ]
    },
    {
      "cell_type": "markdown",
      "metadata": {
        "id": "TGqaphYmGh8k"
      },
      "source": [
        "### *Hyperparameters Class*\n",
        "\n",
        "Makes keeping track of hyperparameters easier\n"
      ]
    },
    {
      "cell_type": "code",
      "metadata": {
        "id": "wbokVHwQzqOt"
      },
      "source": [
        "class Hyperparameters:\n",
        "    def __init__(self, embed_size, vocab_size, learning_rate, num_epochs, num_layers=1, hidden_size=256, attention_dim=256, encoder_dim=2048, decoder_dim=512):\n",
        "        self.embed_size = embed_size\n",
        "        self.hidden_size = hidden_size\n",
        "        self.vocab_size = vocab_size\n",
        "        self.num_layers = num_layers\n",
        "        self.learning_rate = learning_rate\n",
        "        self.num_epochs = num_epochs\n",
        "        self.attention_dim = attention_dim\n",
        "        self.encoder_dim = encoder_dim\n",
        "        self.decoder_dim = decoder_dim"
      ],
      "execution_count": 3,
      "outputs": []
    },
    {
      "cell_type": "markdown",
      "metadata": {
        "id": "z8yCq535G9wy"
      },
      "source": [
        "### *Convert Image to plot*"
      ]
    },
    {
      "cell_type": "code",
      "metadata": {
        "id": "SBvXAYRtmvSh"
      },
      "source": [
        "def convert_to_imshow_format(image):\n",
        " image = image.numpy()\n",
        " # convert from CHW to HWC\n",
        " return image.transpose(1,2,0)"
      ],
      "execution_count": 4,
      "outputs": []
    },
    {
      "cell_type": "markdown",
      "metadata": {
        "id": "FBeg_So9HHXj"
      },
      "source": [
        "### *Plot Attention weights over image*\n",
        "*   `img` - Image to display.\n",
        "*   `result` - Caption predicted by model.\n",
        "*   `attention_plot` - Attention weights.\n",
        "*   `save` - Saves figure to Colab `'\\content'`.\n"
      ]
    },
    {
      "cell_type": "code",
      "metadata": {
        "id": "lGiH7LO_S1yU"
      },
      "source": [
        "def plot_attention(img, result, attention_plot, idx, save=False, dpi=None):    \n",
        "    \n",
        "    len_result = len(attention_plot)\n",
        "    fig= plt.figure(figsize=(4*len_result//2, 4*len_result//2))\n",
        "    \n",
        "    for l in range(len_result):\n",
        "        ax = fig.add_subplot(len_result//2,len_result//2, l+1)\n",
        "        ax.set_title(result[l+1])\n",
        "        a = ax.imshow(img)\n",
        "        temp_att = attention_plot[l].reshape(7,7)\n",
        "        ax.imshow(temp_att, cmap='gray', alpha=0.5, extent=a.get_extent())\n",
        "        ax.set_xticks([])\n",
        "        ax.set_yticks([])\n",
        "\n",
        "    #plt.tight_layout()\n",
        "    \n",
        "    if save:\n",
        "      filename=\"attention%d\" % (idx)\n",
        "      plt.savefig(filename+\".png\", dpi=dpi)\n",
        "      #files.download(filename+\".png\") \n",
        "    plt.show()  "
      ],
      "execution_count": 5,
      "outputs": []
    },
    {
      "cell_type": "markdown",
      "metadata": {
        "id": "G3-WhPQMHVOh"
      },
      "source": [
        "### *Display images with model prediction caption*\n",
        "*   `path` - Path for folder where images are.\n",
        "*   `attention` - if the model uses Attention set to `True`.\n",
        "*   `max_imgs` - Select amount of random images from the folder to be displayed.\n"
      ]
    },
    {
      "cell_type": "code",
      "metadata": {
        "id": "N8mDRPeqlMs1"
      },
      "source": [
        "def print_examples(model, device, dataset, path, transform, attention=False, save=False, max_imgs=5, dpi=None):\n",
        "    model.eval()  \n",
        "    img_files = np.array(os.listdir(path))\n",
        "    \n",
        "    num_images = len(img_files)\n",
        "    \n",
        "    if num_images > max_imgs:\n",
        "      mask = np.zeros(num_images, dtype=int)\n",
        "      mask[:max_imgs] = 1\n",
        "      np.random.shuffle(mask)\n",
        "      mask = mask.astype(bool)\n",
        "      images = img_files[mask]\n",
        "    else :\n",
        "      images = img_files\n",
        "    num_images = len(images)\n",
        "\n",
        "    fig, axes = plt.subplots(num_images,1, figsize=(10,4*num_images))\n",
        "    for idx, image_path in enumerate(images):\n",
        "        input_path = os.path.join(path, image_path)\n",
        "        test_img = Image.open(input_path).convert(\"RGB\")\n",
        "        axes[idx].imshow(test_img)\n",
        "        if attention:\n",
        "          caption, alphas = model.caption_image(transform(test_img).unsqueeze(0).to(device), dataset.vocab)\n",
        "        else:\n",
        "          caption = model.caption_image(transform(test_img).unsqueeze(0).to(device), dataset.vocab)\n",
        "        axes[idx].set_title(\" \".join(caption))\n",
        "        axes[idx].set_xticks([])\n",
        "        axes[idx].set_yticks([])\n",
        "    if save:\n",
        "      plt.savefig(\"examples.png\", dpi=dpi)    \n",
        "    if attention:\n",
        "      for idx, image_path in enumerate(images): \n",
        "        input_path = os.path.join(path, image_path)\n",
        "        test_img = Image.open(input_path).convert(\"RGB\")\n",
        "        caption, alphas = model.caption_image(transform(test_img).unsqueeze(0).to(device), dataset.vocab)  \n",
        "        plot_attention(test_img, caption, alphas, idx, save=save, dpi=dpi)\n",
        "\n",
        "    model.train()"
      ],
      "execution_count": 6,
      "outputs": []
    },
    {
      "cell_type": "markdown",
      "metadata": {
        "id": "LbiTyt_NJEUo"
      },
      "source": [
        "### *Save and load model checkpoint*"
      ]
    },
    {
      "cell_type": "code",
      "metadata": {
        "id": "ewabxJ-QsR2j"
      },
      "source": [
        "def save_checkpoint(state, filename=\"my_checkpoint.pth\"):\n",
        "    print(\"=> Saving checkpoint\")\n",
        "    torch.save(state, filename)\n",
        "\n",
        "\n",
        "def load_checkpoint(checkpoint_path, model, optimizer, device):\n",
        "    print(\"=> Loading checkpoint\")\n",
        "    state = torch.load(checkpoint_path, map_location=device)\n",
        "    model.load_state_dict(state[\"state_dict\"])\n",
        "    optimizer.load_state_dict(state[\"optimizer\"])\n",
        "    return state[\"epoch\"], state[\"losses\"]\n",
        "\n",
        "def load_hyperparams(checkpoint_path, device):\n",
        "    state = torch.load(checkpoint_path, map_location=device)\n",
        "    return state[\"hyperparams\"]"
      ],
      "execution_count": 7,
      "outputs": []
    },
    {
      "cell_type": "markdown",
      "metadata": {
        "id": "xwJU8rPNJXXc"
      },
      "source": [
        "### *Evaluate BLEU score*\n",
        "*   `loader` - Loader for the data to evaluate from.\n",
        "*   `model` - Model evaluated.\n",
        "*   `num_batches` - Number of batches to consider when evaluating.\n",
        "*   `multiple_ref` - If `True` then evaluates the BLEU score based on all the available captions each image from dataset."
      ]
    },
    {
      "cell_type": "code",
      "metadata": {
        "id": "NJo_Y37Iukob"
      },
      "source": [
        "def calc_bleu(loader, model, dataset, device ,path_images, path_captions,transform, attention=False, num_batches=None,multiple_ref=False):\n",
        "    \n",
        "    model.eval()\n",
        "\n",
        "    references = list()  # references (true captions) for calculating BLEU-4 score\n",
        "    hypotheses = list()  # hypotheses (predictions)\n",
        "\n",
        "    keywords = ['<sos>', '<eos>', '<pad>']\n",
        "\n",
        "    with torch.no_grad():\n",
        "        # Batches\n",
        "        for i, (imgs, caps, ids) in tqdm(\n",
        "            enumerate(loader), total=len(loader), leave=True, position=0\n",
        "        ):\n",
        "            if num_batches == i:\n",
        "              break\n",
        "              \n",
        "            caps = caps.permute(1,0)\n",
        "            for j, im in enumerate(imgs):\n",
        "              img = imgs[j].to(device)\n",
        "              cap = caps[j].to(device)\n",
        "              id = ids[j]\n",
        "              refs = []\n",
        "              if multiple_ref:\n",
        "                ref_captions = captions_from_id(id, path_images, path_captions)\n",
        "                for c in ref_captions:\n",
        "                  ref = dataset.vocab.tokenizer_eng(c)\n",
        "                  refs.append(ref)\n",
        "              else:\n",
        "                cap_txt = [dataset.vocab.itos[t.item()] for t in cap if dataset.vocab.itos[t.item()] not in keywords]\n",
        "                refs.append(cap_txt)\n",
        "              \n",
        "              if attention:\n",
        "                pred, _ = model.caption_image(img.unsqueeze(0), dataset.vocab)\n",
        "              else:\n",
        "                pred = model.caption_image(img.unsqueeze(0), dataset.vocab)\n",
        "\n",
        "              pred_txt = [t for t in pred if t not in keywords]\n",
        "              references.append(refs)\n",
        "              hypotheses.append(pred_txt)  \n",
        "        # Calculate BLEU scores\n",
        "        bleu1 = corpus_bleu(references, hypotheses,weights=(1,0,0,0))\n",
        "        bleu2 = corpus_bleu(references, hypotheses,weights=(0.5,0.5,0,0))\n",
        "        bleu3 = corpus_bleu(references, hypotheses,weights=(1/3,1/3,1/3,0))\n",
        "        bleu4 = corpus_bleu(references, hypotheses,weights=(0.25,0.25,0.25,0.25))\n",
        "\n",
        "    model.train()\n",
        "    return bleu1, bleu2, bleu3, bleu4\n"
      ],
      "execution_count": 8,
      "outputs": []
    },
    {
      "cell_type": "markdown",
      "metadata": {
        "id": "Fy01yfCQKJ1-"
      },
      "source": [
        "### *Retrieve all captions from given image file name*\n",
        "*   `id` - Image file name.\n",
        "*   `root_dir` - Directory for the images in dataset.\n",
        "*   `captions_file` - File from dataset that contains the captions."
      ]
    },
    {
      "cell_type": "code",
      "metadata": {
        "id": "xV3ID7UfsXEw"
      },
      "source": [
        "def captions_from_id(id,root_dir, captions_file):\n",
        "  df = pd.read_csv(captions_file)\n",
        "  imgs = df[\"image\"].to_numpy()\n",
        "  captions = df[\"caption\"].to_numpy()\n",
        "  selected = imgs == id\n",
        "  return captions[selected]\n",
        "  "
      ],
      "execution_count": 9,
      "outputs": []
    },
    {
      "cell_type": "markdown",
      "metadata": {
        "id": "yDazoHxlxNRQ"
      },
      "source": [
        "# **Data Pre-Processing**"
      ]
    },
    {
      "cell_type": "markdown",
      "metadata": {
        "id": "b31NkunOMYbL"
      },
      "source": [
        "## *Vocabulary Class*"
      ]
    },
    {
      "cell_type": "code",
      "metadata": {
        "id": "kEMuaD_7MSAU"
      },
      "source": [
        "spacy_eng = spacy.load(\"en\")\n",
        "class Vocabulary:\n",
        "    def __init__(self, freq_threshold):\n",
        "        self.itos = {0: \"<pad>\", 1: \"<sos>\", 2: \"<eos>\", 3: \"<unk>\"}\n",
        "        self.stoi = {\"<pad>\": 0, \"<sos>\": 1, \"<eos>\": 2, \"<unk>\": 3}\n",
        "        self.freq_threshold = freq_threshold\n",
        "\n",
        "    def __len__(self):\n",
        "        return len(self.itos)\n",
        "\n",
        "    @staticmethod\n",
        "    def tokenizer_eng(text):\n",
        "        return [tok.text.lower() for tok in spacy_eng.tokenizer(text)]\n",
        "\n",
        "    def build_vocabulary(self, sentence_list):\n",
        "        frequencies = {}\n",
        "        idx = 4\n",
        "\n",
        "        for sentence in sentence_list:\n",
        "            for word in self.tokenizer_eng(sentence):\n",
        "                if word not in frequencies:\n",
        "                    frequencies[word] = 1\n",
        "\n",
        "                else:\n",
        "                    frequencies[word] += 1\n",
        "\n",
        "                if frequencies[word] == self.freq_threshold:\n",
        "                    self.stoi[word] = idx\n",
        "                    self.itos[idx] = word\n",
        "                    idx += 1\n",
        "\n",
        "    def numericalize(self, text):\n",
        "        tokenized_text = self.tokenizer_eng(text)\n",
        "\n",
        "        return [\n",
        "            self.stoi[token] if token in self.stoi else self.stoi[\"<unk>\"]\n",
        "            for token in tokenized_text\n",
        "        ]\n"
      ],
      "execution_count": 10,
      "outputs": []
    },
    {
      "cell_type": "markdown",
      "metadata": {
        "id": "55BJwA11Mgf4"
      },
      "source": [
        "## *Flickr8kDataset Class*"
      ]
    },
    {
      "cell_type": "code",
      "metadata": {
        "id": "93qFXCG-6UxX"
      },
      "source": [
        "class Flickr8kDataset(Dataset):\n",
        "    def __init__(self, root_dir, captions_file, transform=None, freq_threshold=5, split='', test_size=0.1):\n",
        "        self.root_dir = root_dir\n",
        "        self.df = pd.read_csv(captions_file)\n",
        "        self.transform = transform\n",
        "        # Get img, caption columns\n",
        "        imgs_total = self.df[\"image\"].to_numpy()\n",
        "        captions_total = self.df[\"caption\"].to_numpy()\n",
        "\n",
        "        num_total = len(imgs_total)\n",
        "        indices = list(range(num_total))\n",
        "        split_idx = int(np.floor(test_size * num_total))\n",
        "        np.random.shuffle(indices)\n",
        "        train_idx, test_idx = indices[split_idx:], indices[:split_idx]\n",
        "\n",
        "        imgs_train = imgs_total[train_idx]\n",
        "        imgs_test = imgs_total[test_idx]\n",
        "\n",
        "        captions_train = captions_total[train_idx]\n",
        "        captions_test = captions_total[test_idx]\n",
        "\n",
        "        if (split == 'train'):\n",
        "          self.imgs = imgs_total\n",
        "          self.captions = captions_total\n",
        "        elif (split == 'test'):\n",
        "          self.imgs = imgs_total\n",
        "          self.captions = captions_total\n",
        "        else:    \n",
        "          self.imgs = imgs_total\n",
        "          self.captions = captions_total\n",
        "\n",
        "        # Initialize vocabulary and build vocab\n",
        "        self.vocab = Vocabulary(freq_threshold)\n",
        "        self.vocab.build_vocabulary(self.captions.tolist())\n",
        "\n",
        "    def __len__(self):\n",
        "        return len(self.captions)\n",
        "\n",
        "    def __getitem__(self, index):\n",
        "        caption = self.captions[index]\n",
        "        img_id = self.imgs[index]\n",
        "        img = Image.open(os.path.join(self.root_dir, img_id)).convert(\"RGB\")\n",
        "\n",
        "        if self.transform is not None:\n",
        "            img = self.transform(img)\n",
        "\n",
        "        numericalized_caption = [self.vocab.stoi[\"<sos>\"]]\n",
        "        numericalized_caption += self.vocab.numericalize(caption)\n",
        "        numericalized_caption.append(self.vocab.stoi[\"<eos>\"])\n",
        "\n",
        "        return img, torch.tensor(numericalized_caption), img_id\n"
      ],
      "execution_count": 11,
      "outputs": []
    },
    {
      "cell_type": "markdown",
      "metadata": {
        "id": "lwIx1SwnM9Fi"
      },
      "source": [
        "## *Loader Creator*\n",
        "\n",
        "*   `root_folder` - Directory for the images in dataset.\n",
        "*   `annotation_file` - File from dataset that contains the captions.\n",
        "*   `split` - `'train'` for train set, `'test'` for test set, otherwise returns full dataset loader."
      ]
    },
    {
      "cell_type": "code",
      "metadata": {
        "id": "LcGr1bA8M6ww"
      },
      "source": [
        "class MyCollate:\n",
        "    def __init__(self, pad_idx):\n",
        "        self.pad_idx = pad_idx\n",
        "\n",
        "    def __call__(self, batch):\n",
        "        imgs = [item[0].unsqueeze(0) for item in batch]\n",
        "        imgs = torch.cat(imgs, dim=0)\n",
        "        targets = [item[1] for item in batch]\n",
        "        targets = pad_sequence(targets, batch_first=False, padding_value=self.pad_idx)\n",
        "        img_ids = [item[2] for item in batch]\n",
        "        return imgs, targets, img_ids\n",
        "\n",
        "\n",
        "def get_loader(\n",
        "    root_folder,\n",
        "    annotation_file,\n",
        "    transform,\n",
        "    batch_size=32,\n",
        "    num_workers=2,\n",
        "    shuffle=True,\n",
        "    pin_memory=True,\n",
        "    split='',\n",
        "    test_size=0.1):\n",
        "  \n",
        "    dataset = Flickr8kDataset(root_folder, annotation_file, transform=transform, split=split, test_size=test_size)\n",
        "\n",
        "    pad_idx = dataset.vocab.stoi[\"<pad>\"]\n",
        "\n",
        "    loader = DataLoader(\n",
        "        dataset=dataset,\n",
        "        batch_size=batch_size,\n",
        "        num_workers=num_workers,\n",
        "        shuffle=shuffle,\n",
        "        pin_memory=pin_memory,\n",
        "        collate_fn=MyCollate(pad_idx=pad_idx),\n",
        "    )\n",
        "\n",
        "    return loader, dataset\n"
      ],
      "execution_count": 12,
      "outputs": []
    },
    {
      "cell_type": "markdown",
      "metadata": {
        "id": "Ie9-Vv1_Nrzl"
      },
      "source": [
        "## *Download Flickr8k Dataset*\n",
        "\n",
        "\n",
        "*   `api_token` - API Token from Kaggle User in order to download dataset.\n",
        "\n",
        "\n"
      ]
    },
    {
      "cell_type": "code",
      "metadata": {
        "colab": {
          "base_uri": "https://localhost:8080/"
        },
        "id": "eVtZZJd6tfeh",
        "outputId": "5c5e4e48-4af0-4454-d895-9e73befe1e26"
      },
      "source": [
        "!pip install kaggle\n",
        "api_token = {\"username\":\"ypurKaggleUsername\",\"key\":\"yourKaggleAPIToken\"}\n",
        "!mkdir -p ~/.kaggle\n",
        "with open('kaggle.json', 'w') as file:\n",
        "    json.dump(api_token, file)\n",
        "!cp kaggle.json ~/.kaggle/\n",
        "!ls ~/.kaggle\n",
        "!chmod 600 /root/.kaggle/kaggle.json\n",
        "!kaggle datasets download -d adityajn105/flickr8k"
      ],
      "execution_count": 13,
      "outputs": [
        {
          "output_type": "stream",
          "text": [
            "Requirement already satisfied: kaggle in /usr/local/lib/python3.7/dist-packages (1.5.12)\n",
            "Requirement already satisfied: certifi in /usr/local/lib/python3.7/dist-packages (from kaggle) (2021.5.30)\n",
            "Requirement already satisfied: urllib3 in /usr/local/lib/python3.7/dist-packages (from kaggle) (1.24.3)\n",
            "Requirement already satisfied: requests in /usr/local/lib/python3.7/dist-packages (from kaggle) (2.23.0)\n",
            "Requirement already satisfied: python-dateutil in /usr/local/lib/python3.7/dist-packages (from kaggle) (2.8.1)\n",
            "Requirement already satisfied: tqdm in /usr/local/lib/python3.7/dist-packages (from kaggle) (4.41.1)\n",
            "Requirement already satisfied: python-slugify in /usr/local/lib/python3.7/dist-packages (from kaggle) (5.0.2)\n",
            "Requirement already satisfied: six>=1.10 in /usr/local/lib/python3.7/dist-packages (from kaggle) (1.15.0)\n",
            "Requirement already satisfied: idna<3,>=2.5 in /usr/local/lib/python3.7/dist-packages (from requests->kaggle) (2.10)\n",
            "Requirement already satisfied: chardet<4,>=3.0.2 in /usr/local/lib/python3.7/dist-packages (from requests->kaggle) (3.0.4)\n",
            "Requirement already satisfied: text-unidecode>=1.3 in /usr/local/lib/python3.7/dist-packages (from python-slugify->kaggle) (1.3)\n",
            "kaggle.json\n",
            "Downloading flickr8k.zip to /content\n",
            " 99% 1.02G/1.04G [00:14<00:00, 89.2MB/s]\n",
            "100% 1.04G/1.04G [00:15<00:00, 74.1MB/s]\n"
          ],
          "name": "stdout"
        }
      ]
    },
    {
      "cell_type": "markdown",
      "metadata": {
        "id": "WUV6IbfqOQfR"
      },
      "source": [
        "## *Extract .zip File*"
      ]
    },
    {
      "cell_type": "code",
      "metadata": {
        "id": "RKbfeQTQu2L3"
      },
      "source": [
        "import zipfile\n",
        "with zipfile.ZipFile('./flickr8k.zip', 'r') as zip_ref:\n",
        "    zip_ref.extractall('./flickr8k')"
      ],
      "execution_count": 14,
      "outputs": []
    },
    {
      "cell_type": "markdown",
      "metadata": {
        "id": "tbQ12ubMOZSh"
      },
      "source": [
        "## *Files Directories*\n",
        "\n",
        "*   `path_images` - Directory for dataset images.\n",
        "*   `path_captions` - Directory for dataset captions.\n",
        "*   `path_examples` - Directory for sample images to display.\n",
        "*   `path_checkpoints` - Directory for model checkpoints.\n",
        "\n"
      ]
    },
    {
      "cell_type": "code",
      "metadata": {
        "id": "B7z3ca_zonI8"
      },
      "source": [
        "path_images=\"/content/flickr8k/Images\"\n",
        "path_captions=\"/content/flickr8k/captions.txt\"\n",
        "path_examples=\"\"  #Images to caption\n",
        "path_checkpoints=\"\" #Model checkpoints"
      ],
      "execution_count": 15,
      "outputs": []
    },
    {
      "cell_type": "markdown",
      "metadata": {
        "id": "HJ5FBKnNO6Uk"
      },
      "source": [
        "## *Display samples from dataset*\n",
        "*   `path_images` - Directory for dataset images.\n",
        "*   `path_captions` - Directory for dataset captions."
      ]
    },
    {
      "cell_type": "code",
      "metadata": {
        "id": "mqoOJIUKAJq-"
      },
      "source": [
        "def display_samples(path_images, path_captions):\n",
        "  display_transform = transforms.Compose([\n",
        "        transforms.Resize((224, 224)), \n",
        "        transforms.ToTensor(),\n",
        "        ])\n",
        "\n",
        "  display_loader, display_dataset = get_loader(path_images,path_captions,batch_size=2,transform=display_transform)\n",
        "  display_iter = iter(display_loader)\n",
        "  images, captions, ids = display_iter.next()\n",
        "  fig, axes = plt.subplots(len(images),1, figsize=(2.5,5))\n",
        "  for idx, image in enumerate(images):\n",
        "    axes[idx].imshow(convert_to_imshow_format(image))\n",
        "    axes[idx].set_title(\" \".join([display_dataset.vocab.itos[t.item()] for t in captions[:,idx]]))\n",
        "    axes[idx].set_xticks([])\n",
        "    axes[idx].set_yticks([])\n",
        "\n",
        "    "
      ],
      "execution_count": 16,
      "outputs": []
    },
    {
      "cell_type": "code",
      "metadata": {
        "colab": {
          "base_uri": "https://localhost:8080/",
          "height": 322
        },
        "id": "NogLv83IgwR8",
        "outputId": "54b9ca68-03cf-4c19-a1ad-d81177906734"
      },
      "source": [
        "display_samples(path_images, path_captions)"
      ],
      "execution_count": 17,
      "outputs": [
        {
          "output_type": "display_data",
          "data": {
            "image/png": "[encoded data removed]",
            "text/plain": [
              "<Figure size 180x360 with 2 Axes>"
            ]
          },
          "metadata": {
            "tags": []
          }
        }
      ]
    },
    {
      "cell_type": "markdown",
      "metadata": {
        "id": "3uLQQT3DxmCr"
      },
      "source": [
        "# **Dataset Loaders**\n"
      ]
    },
    {
      "cell_type": "markdown",
      "metadata": {
        "id": "H-tJlG9Xek4K"
      },
      "source": [
        "## *Create Transform*\n",
        "\n",
        "*   `split` - Default value is `train`.\n",
        "*   `model` - `1` for Model 1, `2` for Model 2, default is `2`.\n"
      ]
    },
    {
      "cell_type": "code",
      "metadata": {
        "id": "Gctz6WrtanOM"
      },
      "source": [
        "def create_transform(split='train', model=2):\n",
        "  if model == 1: \n",
        "    if split == 'test':\n",
        "      transform = transforms.Compose([\n",
        "            transforms.Resize((299, 299)),\n",
        "            transforms.ToTensor(),\n",
        "            transforms.Normalize((0.5, 0.5, 0.5), (0.5, 0.5, 0.5)),])\n",
        "    else:\n",
        "      transform = transforms.Compose([\n",
        "            transforms.Resize((356, 356)),\n",
        "            transforms.RandomCrop((299, 299)),\n",
        "            transforms.ToTensor(),\n",
        "            transforms.Normalize((0.5, 0.5, 0.5), (0.5, 0.5, 0.5)),])\n",
        "  else:  \n",
        "    if split == 'test':\n",
        "      transform = transforms.Compose([\n",
        "            transforms.Resize((224, 224)),\n",
        "            transforms.ToTensor(),\n",
        "            transforms.Normalize((0.485, 0.456, 0.406),(0.229, 0.224, 0.225)),])\n",
        "    else:\n",
        "      transform = transforms.Compose([\n",
        "            transforms.Resize((226, 226)),\n",
        "            transforms.RandomCrop((224, 224)),\n",
        "            transforms.ToTensor(),\n",
        "            transforms.Normalize((0.485, 0.456, 0.406),(0.229, 0.224, 0.225)),])\n",
        "      \n",
        "  return transform   "
      ],
      "execution_count": 18,
      "outputs": []
    },
    {
      "cell_type": "markdown",
      "metadata": {
        "id": "ueMI4MfRfGxa"
      },
      "source": [
        "## *Create Loader*\n",
        "*   `path_images` - Directory for dataset images.\n",
        "*   `path_captions` - Directory for dataset captions.\n",
        "*   `split` - Default value is `train`.\n",
        "*   `model` - `1` for Model 1, `2` for Model 2, default is `2`.\n",
        "\n"
      ]
    },
    {
      "cell_type": "code",
      "metadata": {
        "id": "CFekJz4WdigZ"
      },
      "source": [
        "def create_loader(path_images, path_captions, split='', model=2):\n",
        "  transform = create_transform(split, model)\n",
        "  return get_loader(\n",
        "        root_folder=path_images,\n",
        "        annotation_file=path_captions,\n",
        "        transform=transform,split=split)"
      ],
      "execution_count": 19,
      "outputs": []
    },
    {
      "cell_type": "code",
      "metadata": {
        "id": "wfFIKBoWxhfy"
      },
      "source": [
        "transform_Inception_Test = create_transform(split='test', model=1)\n",
        "transform_Inception_Train = create_transform(split='train', model=1)\n",
        "transform_Resnet_Test = create_transform(split='test', model=2)\n",
        "transform_Resnet_Train = create_transform(split='train', model=2)\n",
        "\n",
        "train_loader_inception, train_dataset_inception = create_loader(path_images, path_captions, split='train', model=1)\n",
        "train_loader_resnet, train_dataset_resnet = create_loader(path_images, path_captions, split='train', model=2)\n",
        "\n",
        "total_loader_inception, total_dataset_inception = create_loader(path_images, path_captions, model=1)\n",
        "total_loader_resnet, total_dataset_resnet = create_loader(path_images, path_captions, model=2)\n",
        "\n",
        "test_loader_inception, test_dataset_inception = create_loader(path_images, path_captions, split='test', model=1)\n",
        "test_loader_resnet, test_dataset_resnet = create_loader(path_images, path_captions, split='test', model=2)"
      ],
      "execution_count": 20,
      "outputs": []
    },
    {
      "cell_type": "markdown",
      "metadata": {
        "id": "z7iWY8J3jN1j"
      },
      "source": [
        "# **Model 1**\n",
        "CNN-RNN with Single layer LSTM without Attention\n",
        "\n",
        "\n",
        "*   **Encoder** - Pre-Trained Inception v3\n",
        "*   **Decoder** - Single Layer LSTM\n",
        "* Inspired by \n",
        "https://github.com/aladdinpersson/Machine-Learning-Collection/tree/master/ML/Pytorch/more_advanced/image_captioning"
      ]
    },
    {
      "cell_type": "markdown",
      "metadata": {
        "id": "N_1y-aNYQo9-"
      },
      "source": [
        "## *Model Definition*"
      ]
    },
    {
      "cell_type": "code",
      "metadata": {
        "id": "uLC_l_7Nh6R0"
      },
      "source": [
        "class EncoderCNN(nn.Module):\n",
        "    def __init__(self, embed_size, train_CNN=False):\n",
        "        super(EncoderCNN, self).__init__()\n",
        "        self.train_CNN = train_CNN\n",
        "        self.inception = models.inception_v3(pretrained=True, aux_logits=False)\n",
        "        self.inception.fc = nn.Linear(self.inception.fc.in_features, embed_size)\n",
        "        self.relu = nn.ReLU()\n",
        "        self.times = []\n",
        "        self.dropout = nn.Dropout(0.5)\n",
        "\n",
        "    def forward(self, images):\n",
        "        features = self.inception(images)\n",
        "        return self.dropout(self.relu(features))\n",
        "\n",
        "class DecoderRNN(nn.Module):\n",
        "    def __init__(self, embed_size, hidden_size, vocab_size, num_layers):\n",
        "        super(DecoderRNN, self).__init__()\n",
        "        self.embed = nn.Embedding(vocab_size, embed_size)\n",
        "        self.lstm = nn.LSTM(embed_size, hidden_size, num_layers)\n",
        "        self.linear = nn.Linear(hidden_size, vocab_size)\n",
        "        self.dropout = nn.Dropout(0.5)\n",
        "\n",
        "    def forward(self, features, captions):\n",
        "        embeddings = self.dropout(self.embed(captions))\n",
        "        embeddings = torch.cat((features.unsqueeze(0), embeddings), dim=0)\n",
        "        hiddens, _ = self.lstm(embeddings)\n",
        "        outputs = self.linear(hiddens)\n",
        "        return outputs\n",
        "\n",
        "\n",
        "class CNNtoRNN(nn.Module):\n",
        "    def __init__(self, embed_size, hidden_size, vocab_size, num_layers):\n",
        "        super(CNNtoRNN, self).__init__()\n",
        "        self.encoderCNN = EncoderCNN(embed_size)\n",
        "        self.decoderRNN = DecoderRNN(embed_size, hidden_size, vocab_size, num_layers)\n",
        "\n",
        "    def forward(self, images, captions):\n",
        "        features = self.encoderCNN(images)\n",
        "        outputs = self.decoderRNN(features, captions)\n",
        "        return outputs\n",
        "\n",
        "    def caption_image(self, image, vocabulary, max_length=50):\n",
        "        result_caption = []\n",
        "\n",
        "        with torch.no_grad():\n",
        "            x = self.encoderCNN(image).unsqueeze(0)\n",
        "            states = None\n",
        "\n",
        "            for _ in range(max_length):\n",
        "                hiddens, states = self.decoderRNN.lstm(x, states)\n",
        "                output = self.decoderRNN.linear(hiddens.squeeze(0))\n",
        "                predicted = output.argmax(1)\n",
        "                result_caption.append(predicted.item())\n",
        "                x = self.decoderRNN.embed(predicted).unsqueeze(0)\n",
        "\n",
        "                if vocabulary.itos[predicted.item()] == \"<eos>\":\n",
        "                    break\n",
        "\n",
        "        return [vocabulary.itos[idx] for idx in result_caption]"
      ],
      "execution_count": 21,
      "outputs": []
    },
    {
      "cell_type": "markdown",
      "metadata": {
        "id": "qQU4uZagQuOS"
      },
      "source": [
        "## *Train function*\n",
        "*   `hyperparam` - Hyperparameters from the Hyperparameters Class.\n",
        "*   `train_CNN` - If `True` then fine tunes the pre trained encoder.\n",
        "*   `load_model` - If `True` then resumes training from checkpoint.\n",
        "*   `save_model` - If `True` then saves checkpoints after each epoch.\n",
        "*   `model_file` - Saves and loads checkpoints from directory `path_checkpoints+model_file`."
      ]
    },
    {
      "cell_type": "code",
      "metadata": {
        "id": "L9prT12bjrjd"
      },
      "source": [
        "def train_LSTM_pretrained(train_loader, dataset, hyperparam , device, model_file='',save_model=True,train_CNN=False,load_model=False, cudnn_benchmark=True):\n",
        "\n",
        "    torch.backends.cudnn.benchmark = cudnn_benchmark\n",
        "    losses = []\n",
        "\n",
        "    # Hyperparameters\n",
        "    hyper = hyperparam\n",
        "    if load_model: \n",
        "      hyper = load_hyperparams(path_checkpoints+model_file, device)\n",
        "    \n",
        "    embed_size = hyper.embed_size\n",
        "    hidden_size = hyper.hidden_size\n",
        "    vocab_size = hyper.vocab_size\n",
        "    num_layers = hyper.num_layers\n",
        "    learning_rate = hyper.learning_rate\n",
        "    num_epochs = hyperparam.num_epochs\n",
        "\n",
        "    # initialize model, loss etc\n",
        "    model = CNNtoRNN(embed_size, hidden_size, vocab_size, num_layers).to(device)\n",
        "    criterion = nn.CrossEntropyLoss(ignore_index=dataset.vocab.stoi[\"<pad>\"])\n",
        "    optimizer = optim.Adam(model.parameters(), lr=learning_rate)\n",
        "\n",
        "    # Only finetune the CNN\n",
        "    for name, param in model.encoderCNN.inception.named_parameters():\n",
        "        if \"fc.weight\" in name or \"fc.bias\" in name:\n",
        "            param.requires_grad = True\n",
        "        else:\n",
        "            param.requires_grad = train_CNN\n",
        "    \n",
        "    start_epoch = 1\n",
        "    if load_model:\n",
        "        start_epoch, losses_loaded = load_checkpoint(path_checkpoints+model_file, model, optimizer, device)\n",
        "        start_epoch += 1\n",
        "        losses = losses_loaded\n",
        "    model.train()\n",
        "    \n",
        "    for epoch in range(num_epochs+1)[start_epoch:]:\n",
        "        # Uncomment the line below to see a couple of test cases\n",
        "        # print_examples(model, device, dataset)\n",
        "        \n",
        "        for idx, (imgs, captions,_) in tqdm(\n",
        "            enumerate(train_loader), total=len(train_loader), leave=True, position=0\n",
        "        ):\n",
        "            imgs = imgs.to(device)\n",
        "            captions = captions.to(device)\n",
        "\n",
        "            outputs = model(imgs, captions[:-1])\n",
        "            loss = criterion(\n",
        "                outputs.reshape(-1, outputs.shape[2]), captions.reshape(-1)\n",
        "            )\n",
        "\n",
        "            optimizer.zero_grad()\n",
        "            loss.backward(loss)\n",
        "            optimizer.step()\n",
        "        losses.append(loss.item())\n",
        "        if save_model:\n",
        "            checkpoint = {\n",
        "                \"state_dict\": model.state_dict(),\n",
        "                \"optimizer\": optimizer.state_dict(),\n",
        "                \"epoch\": epoch,\n",
        "                \"losses\": losses,\n",
        "                \"hyperparams\": hyper\n",
        "            }\n",
        "            save_checkpoint(checkpoint, path_checkpoints+model_file)    \n",
        "        print(f\"Epoch {epoch} - Loss = {loss.item()}\")\n",
        "    return losses"
      ],
      "execution_count": 22,
      "outputs": []
    },
    {
      "cell_type": "markdown",
      "metadata": {
        "id": "E1D0HpGnR80h"
      },
      "source": [
        "## *Train model and evaluate*"
      ]
    },
    {
      "cell_type": "code",
      "metadata": {
        "id": "bTRK10GAkvYE"
      },
      "source": [
        "LSTM_hyperparam = Hyperparameters(embed_size=256, hidden_size=256, vocab_size=len(train_dataset_inception.vocab), num_layers=1, learning_rate=3e-4, num_epochs=100)\n",
        "losses_no_Attention = train_LSTM_pretrained(train_loader_inception, train_dataset_inception, LSTM_hyperparam, device, model_file=\"/LSTM_ckpt.pth\", load_model=True)\n"
      ],
      "execution_count": null,
      "outputs": []
    },
    {
      "cell_type": "code",
      "metadata": {
        "id": "wAKAkHtg5DsH"
      },
      "source": [
        "fig = plt.figure(figsize=(8, 5)) \n",
        "ax = fig.add_subplot(1, 1 ,1) \n",
        "ax.plot(range(len(losses_no_Attention))+np.ones(len(losses_no_Attention)),losses_no_Attention, label=\"Training Loss\")\n",
        "ax.set_xlabel('Epochs')\n",
        "ax.set_ylabel(\"Loss\")\n",
        "ax.set_title(\"Training Loss - No Attention\")\n",
        "ax.grid()\n",
        "ax.legend() \n",
        "\n",
        "plt.savefig(\"loss_LSTM.png\")"
      ],
      "execution_count": null,
      "outputs": []
    },
    {
      "cell_type": "code",
      "metadata": {
        "id": "28odeUNw5uhn"
      },
      "source": [
        "LSTM_hyperparam = load_hyperparams(path_checkpoints+\"/LSTM_ckpt.pth\", device)\n",
        "model = CNNtoRNN(LSTM_hyperparam.embed_size, LSTM_hyperparam.hidden_size, LSTM_hyperparam.vocab_size, LSTM_hyperparam.num_layers).to(device)\n",
        "optimizer = optim.Adam(model.parameters(), lr=LSTM_hyperparam.learning_rate)\n",
        "load_checkpoint(path_checkpoints+\"/LSTM_ckpt.pth\", model, optimizer, device)\n",
        "print_examples(model, device, test_dataset_inception,path_examples, transform_Inception_Test, attention=False, max_imgs=15, save=True)"
      ],
      "execution_count": null,
      "outputs": []
    },
    {
      "cell_type": "code",
      "metadata": {
        "id": "O1khzAPYyvBW"
      },
      "source": [
        "calc_bleu(total_loader_resnet,model, total_dataset_resnet, device, path_images, path_captions, transform_Inception_Test, attention=False, num_batches=20, multiple_ref=True)"
      ],
      "execution_count": null,
      "outputs": []
    },
    {
      "cell_type": "markdown",
      "metadata": {
        "id": "M0Zan_qHU7RL"
      },
      "source": [
        "# **Model 2**\n",
        "CNN-RNN with Single layer LSTM with Soft Attention\n",
        "\n",
        "\n",
        "*   **Encoder** - Pre-Trained ResNet50\n",
        "*   **Decoder** - Single Layer LSTM with Soft Attention\n",
        "* Inspired by\n",
        "https://www.kaggle.com/mdteach/image-captioning-with-attention-pytorch\n"
      ]
    },
    {
      "cell_type": "markdown",
      "metadata": {
        "id": "hAw7f80wSk7P"
      },
      "source": [
        "## *Model Definiton*"
      ]
    },
    {
      "cell_type": "code",
      "metadata": {
        "id": "nSGuSLMOXuwq"
      },
      "source": [
        "class EncoderResnet(nn.Module):\n",
        "    def __init__(self):\n",
        "        super(EncoderResnet, self).__init__()\n",
        "        resnet = models.resnet50(pretrained=True)\n",
        "        for param in resnet.parameters():\n",
        "            param.requires_grad_(False)\n",
        "        \n",
        "        modules = list(resnet.children())[:-2]\n",
        "        self.resnet = nn.Sequential(*modules)\n",
        "        \n",
        "\n",
        "    def forward(self, images):\n",
        "        features = self.resnet(images)                                    #(batch_size,2048,7,7)\n",
        "        features = features.permute(0, 2, 3, 1)                           #(batch_size,7,7,2048)\n",
        "        features = features.view(features.size(0), -1, features.size(-1)) #(batch_size,49,2048)\n",
        "        return features\n",
        "\n",
        "class Attention(nn.Module):\n",
        "    def __init__(self, encoder_dim,decoder_dim,attention_dim):\n",
        "        super(Attention, self).__init__()\n",
        "        \n",
        "        self.attention_dim = attention_dim\n",
        "        \n",
        "        self.W = nn.Linear(decoder_dim,attention_dim)\n",
        "        self.U = nn.Linear(encoder_dim,attention_dim)\n",
        "        \n",
        "        self.A = nn.Linear(attention_dim,1)\n",
        "        \n",
        "        \n",
        "    def forward(self, features, hidden_state):\n",
        "        u_hs = self.U(features)     #(batch_size,num_layers,attention_dim)\n",
        "        w_ah = self.W(hidden_state) #(batch_size,attention_dim)\n",
        "        \n",
        "        combined_states = torch.tanh(u_hs + w_ah.unsqueeze(1)) #(batch_size,num_layers,attemtion_dim)\n",
        "        \n",
        "        attention_scores = self.A(combined_states)         #(batch_size,num_layers,1)\n",
        "        attention_scores = attention_scores.squeeze(2)     #(batch_size,num_layers)\n",
        "        \n",
        "        \n",
        "        alpha = f.softmax(attention_scores,dim=1)          #(batch_size,num_layers)\n",
        "        \n",
        "        attention_weights = features * alpha.unsqueeze(2)  #(batch_size,num_layers,features_dim)\n",
        "        attention_weights = attention_weights.sum(dim=1)   #(batch_size,num_layers)\n",
        "        \n",
        "        return alpha,attention_weights\n",
        "                \n",
        "\n",
        "class DecoderAttention(nn.Module):\n",
        "    def __init__(self,embed_size, vocab_size, attention_dim,encoder_dim,decoder_dim,drop_prob=0.3):\n",
        "        super().__init__()\n",
        "        \n",
        "        #save the model param\n",
        "        self.vocab_size = vocab_size\n",
        "        self.attention_dim = attention_dim\n",
        "        self.decoder_dim = decoder_dim\n",
        "        \n",
        "        self.embedding = nn.Embedding(vocab_size,embed_size)\n",
        "        self.attention = Attention(encoder_dim,decoder_dim,attention_dim)\n",
        "        \n",
        "        \n",
        "        self.init_h = nn.Linear(encoder_dim, decoder_dim)  \n",
        "        self.init_c = nn.Linear(encoder_dim, decoder_dim)  \n",
        "        self.lstm_cell = nn.LSTMCell(embed_size+encoder_dim,decoder_dim,bias=True)\n",
        "        self.f_beta = nn.Linear(decoder_dim, encoder_dim)\n",
        "        \n",
        "        \n",
        "        self.fcn = nn.Linear(decoder_dim,vocab_size)\n",
        "        self.drop = nn.Dropout(drop_prob)\n",
        "        \n",
        "        \n",
        "    \n",
        "    def forward(self, features, captions):\n",
        "        \n",
        "        #vectorize the caption\n",
        "        embeds = self.embedding(captions)\n",
        "        \n",
        "        # Initialize LSTM state\n",
        "        h, c = self.init_hidden_state(features)  # (batch_size, decoder_dim)\n",
        "        \n",
        "        #get the seq length to iterate\n",
        "        seq_length = len(captions[0])-1 #Exclude the last one\n",
        "        batch_size = captions.size(0)\n",
        "        num_features = features.size(1)\n",
        "        \n",
        "        preds = torch.zeros(batch_size, seq_length, self.vocab_size).to(device)\n",
        "        alphas = torch.zeros(batch_size, seq_length,num_features).to(device)\n",
        "                \n",
        "        for s in range(seq_length):\n",
        "            alpha,context = self.attention(features, h)\n",
        "            lstm_input = torch.cat((embeds[:, s], context), dim=1)\n",
        "            h, c = self.lstm_cell(lstm_input, (h, c))\n",
        "                    \n",
        "            output = self.fcn(self.drop(h))\n",
        "            \n",
        "            preds[:,s] = output\n",
        "            alphas[:,s] = alpha  \n",
        "        \n",
        "        \n",
        "        return preds, alphas\n",
        "    \n",
        "    def generate_caption(self,features,max_len=20,vocab=None):\n",
        "        # Inference part\n",
        "        # Given the image features generate the captions\n",
        "        \n",
        "        batch_size = features.size(0)\n",
        "        h, c = self.init_hidden_state(features)  # (batch_size, decoder_dim)\n",
        "        \n",
        "        alphas = []\n",
        "        \n",
        "        #starting input\n",
        "        word = torch.tensor(vocab.stoi['<sos>']).view(1,-1).to(device)\n",
        "        embeds = self.embedding(word)\n",
        "\n",
        "        \n",
        "        captions = [vocab.stoi[\"<sos>\"]]\n",
        "        \n",
        "        for i in range(max_len):\n",
        "            alpha,context = self.attention(features, h)\n",
        "            \n",
        "            \n",
        "            #store the alpha score\n",
        "            alphas.append(alpha.cpu().detach().numpy())\n",
        "            \n",
        "            lstm_input = torch.cat((embeds[:, 0], context), dim=1)\n",
        "            h, c = self.lstm_cell(lstm_input, (h, c))\n",
        "            output = self.fcn(self.drop(h))\n",
        "            output = output.view(batch_size,-1)\n",
        "        \n",
        "            \n",
        "            #select the word with most val\n",
        "            predicted_word_idx = output.argmax(dim=1)\n",
        "            \n",
        "            #save the generated word\n",
        "            captions.append(predicted_word_idx.item())\n",
        "            \n",
        "            #end if <eos> detected\n",
        "            if vocab.itos[predicted_word_idx.item()] == \"<eos>\":\n",
        "                break\n",
        "            \n",
        "            #send generated word as the next caption\n",
        "            embeds = self.embedding(predicted_word_idx.unsqueeze(0))\n",
        "        \n",
        "        #covert the vocab idx to words and return sentence\n",
        "        return [vocab.itos[idx] for idx in captions],alphas\n",
        "    \n",
        "    \n",
        "    def init_hidden_state(self, encoder_out):\n",
        "        mean_encoder_out = encoder_out.mean(dim=1)\n",
        "        h = self.init_h(mean_encoder_out)  # (batch_size, decoder_dim)\n",
        "        c = self.init_c(mean_encoder_out)\n",
        "        return h, c                \n",
        "\n",
        "class EncoderDecoder(nn.Module):\n",
        "    def __init__(self,embed_size, vocab_size, attention_dim,  encoder_dim, decoder_dim, drop_prob=0.3):\n",
        "        super().__init__()\n",
        "        self.encoder = EncoderResnet()\n",
        "        self.decoder = DecoderAttention(\n",
        "            embed_size=embed_size,\n",
        "            vocab_size = vocab_size,\n",
        "            attention_dim=attention_dim,\n",
        "            encoder_dim=encoder_dim,\n",
        "            decoder_dim=decoder_dim\n",
        "        )\n",
        "        \n",
        "    def forward(self, images, captions):\n",
        "        features = self.encoder(images)\n",
        "        outputs = self.decoder(features, captions)\n",
        "        return outputs\n",
        "\n",
        "    def caption_image(self, image, vocabulary, max_length=50):\n",
        "        return self.decoder.generate_caption(self.encoder(image[0:1]), max_length, vocabulary)          "
      ],
      "execution_count": 35,
      "outputs": []
    },
    {
      "cell_type": "markdown",
      "metadata": {
        "id": "m04GWrFRSq4d"
      },
      "source": [
        "## *Train function*\n",
        "*   `hyperparam` - Hyperparameters from the Hyperparameters Class.\n",
        "*   `train_CNN` - If `True` then fine tunes the pre trained encoder.\n",
        "*   `load_model` - If `True` then resumes training from checkpoint.\n",
        "*   `save_model` - If `True` then saves checkpoints after each epoch.\n",
        "*   `model_file` - Saves and loads checkpoints from directory `path_checkpoints+model_file`."
      ]
    },
    {
      "cell_type": "code",
      "metadata": {
        "id": "dWHFfsoukp2j"
      },
      "source": [
        "def train_Attention(train_loader, dataset, hyperparam , device ,model_file='',save_model=True,train_CNN=False,load_model=False, cudnn_benchmark=True):\n",
        "\n",
        "    torch.backends.cudnn.benchmark = cudnn_benchmark\n",
        "    losses = []\n",
        "\n",
        "    # Hyperparameters\n",
        "    hyper = hyperparam\n",
        "    if load_model: \n",
        "      hyper = load_hyperparams(path_checkpoints+model_file, device)\n",
        "\n",
        "    embed_size = hyper.embed_size\n",
        "    vocab_size = hyper.vocab_size\n",
        "    attention_dim = hyper.attention_dim\n",
        "    encoder_dim = hyper.encoder_dim\n",
        "    decoder_dim = hyper.decoder_dim\n",
        "    learning_rate = hyper.learning_rate\n",
        "    num_epochs = hyperparam.num_epochs\n",
        "\n",
        "    # initialize model, loss etc\n",
        "    model = EncoderDecoder(embed_size, vocab_size, attention_dim, encoder_dim, decoder_dim).to(device)\n",
        "    criterion = nn.CrossEntropyLoss(ignore_index=dataset.vocab.stoi[\"<pad>\"])\n",
        "    optimizer = optim.Adam(model.parameters(), lr=learning_rate)\n",
        "\n",
        "    # Only finetune the CNN\n",
        "    if train_CNN:\n",
        "      for param in model.EncoderResnet.resnet.parameters():\n",
        "              param.requires_grad = True\n",
        "\n",
        "    start_epoch = 1\n",
        "    if load_model:\n",
        "        start_epoch, losses_loaded = load_checkpoint(path_checkpoints+model_file, model, optimizer, device)\n",
        "        start_epoch += 1\n",
        "        losses = losses_loaded\n",
        "    model.train()\n",
        "    \n",
        "    for epoch in range(num_epochs+1)[start_epoch:]:\n",
        "        # Uncomment the line below to see a couple of test cases\n",
        "        # print_examples(model, device, dataset)\n",
        "        \n",
        "        for idx, (imgs, captions, _) in tqdm(\n",
        "            enumerate(train_loader), total=len(train_loader), leave=True, position=0\n",
        "        ):\n",
        "            imgs = imgs.to(device)\n",
        "            captions = captions.permute(1,0).to(device)\n",
        "\n",
        "            outputs, attentions = model(imgs, captions )\n",
        "            targets = captions[:,1:]\n",
        "            loss = criterion(outputs.view(-1, vocab_size), targets.reshape(-1))\n",
        "\n",
        "            optimizer.zero_grad()\n",
        "            loss.backward(loss)\n",
        "            optimizer.step()\n",
        "        losses.append(loss.item())\n",
        "        if save_model:\n",
        "            checkpoint = {\n",
        "                \"state_dict\": model.state_dict(),\n",
        "                \"optimizer\": optimizer.state_dict(),\n",
        "                \"epoch\": epoch,\n",
        "                \"losses\": losses,\n",
        "                \"hyperparams\": hyper\n",
        "            }\n",
        "            save_checkpoint(checkpoint, path_checkpoints+model_file)    \n",
        "        print(f\"Epoch {epoch} - Loss = {loss.item()}\")\n",
        "    return losses"
      ],
      "execution_count": 36,
      "outputs": []
    },
    {
      "cell_type": "markdown",
      "metadata": {
        "id": "bQTXCFU8Sz29"
      },
      "source": [
        "## *Train model and evaluate*"
      ]
    },
    {
      "cell_type": "code",
      "metadata": {
        "id": "epv5QLNumoKX"
      },
      "source": [
        "Attention_hyperparam = Hyperparameters(embed_size=300, vocab_size=len(train_dataset_resnet.vocab), learning_rate=3e-4, num_epochs=25,attention_dim=256, encoder_dim=2048,decoder_dim=512)\n",
        "losses_Attention = train_Attention(train_loader_resnet, train_dataset_resnet, Attention_hyperparam, device,model_file=\"/Attention1_ckpt.pth\", load_model=False)"
      ],
      "execution_count": null,
      "outputs": []
    },
    {
      "cell_type": "code",
      "metadata": {
        "id": "p6YfJ2YxjGAI"
      },
      "source": [
        "fig = plt.figure(figsize=(8, 5)) \n",
        "ax = fig.add_subplot(1, 1 ,1) \n",
        "ax.plot(range(len(losses_Attention))+np.ones(len(losses_Attention)),losses_Attention, label=\"Training Loss\")\n",
        "ax.set_xlabel('Epochs')\n",
        "ax.set_ylabel(\"Loss\")\n",
        "ax.set_title(\"Training Loss - With Attention\")\n",
        "ax.grid()\n",
        "ax.legend() \n",
        "\n",
        "plt.savefig(\"loss_Attention.png\")"
      ],
      "execution_count": null,
      "outputs": []
    },
    {
      "cell_type": "code",
      "metadata": {
        "id": "pP6Ocx2rtdIo"
      },
      "source": [
        "Attention_hyperparam = load_hyperparams(path_checkpoints+\"/Attention_ckpt.pth\", device)\n",
        "model = EncoderDecoder(Attention_hyperparam.embed_size, Attention_hyperparam.vocab_size, Attention_hyperparam.attention_dim, Attention_hyperparam.encoder_dim, Attention_hyperparam.decoder_dim).to(device)\n",
        "optimizer = optim.Adam(model.parameters(), lr=Attention_hyperparam.learning_rate)\n",
        "_,losses_Attention = load_checkpoint(path_checkpoints+\"/Attention_ckpt.pth\", model, optimizer, device)\n",
        "print_examples(model, device, train_dataset_resnet,path_examples, transform_Resnet_Test, attention=True, max_imgs=16, save=True)"
      ],
      "execution_count": null,
      "outputs": []
    },
    {
      "cell_type": "code",
      "metadata": {
        "id": "L03NG_381IcJ"
      },
      "source": [
        "calc_bleu(total_loader_resnet,model, total_dataset_resnet, device, path_images, path_captions, transform_Resnet_Test, attention=True, num_batches=10, multiple_ref=False)"
      ],
      "execution_count": null,
      "outputs": []
    }
  ]
}